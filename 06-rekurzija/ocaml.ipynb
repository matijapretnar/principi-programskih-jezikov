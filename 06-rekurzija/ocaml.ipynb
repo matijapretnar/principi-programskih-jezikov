{
 "cells": [
  {
   "cell_type": "markdown",
   "metadata": {},
   "source": [
    "# OCaml\n",
    "\n",
    "Principi programskih jezikov, 2024-03-27\n",
    "\n",
    "---"
   ]
  },
  {
   "cell_type": "markdown",
   "metadata": {},
   "source": [
    "## Veriženje"
   ]
  },
  {
   "cell_type": "code",
   "execution_count": null,
   "metadata": {
    "vscode": {
     "languageId": "ocaml"
    }
   },
   "outputs": [],
   "source": [
    "let (+++) x y = 3 * (x + y)"
   ]
  },
  {
   "cell_type": "code",
   "execution_count": null,
   "metadata": {
    "vscode": {
     "languageId": "ocaml"
    }
   },
   "outputs": [],
   "source": [
    "10 +++ 2"
   ]
  },
  {
   "cell_type": "code",
   "execution_count": null,
   "metadata": {
    "vscode": {
     "languageId": "ocaml"
    }
   },
   "outputs": [],
   "source": [
    "let (|>) x f = f x"
   ]
  },
  {
   "cell_type": "code",
   "execution_count": null,
   "metadata": {
    "vscode": {
     "languageId": "ocaml"
    }
   },
   "outputs": [],
   "source": [
    "print_endline (String.uppercase_ascii \"Hello, world!\")"
   ]
  },
  {
   "cell_type": "code",
   "execution_count": null,
   "metadata": {
    "vscode": {
     "languageId": "ocaml"
    }
   },
   "outputs": [],
   "source": [
    "\"Hello, world!\"\n",
    "|> String.uppercase_ascii\n",
    "|> print_endline"
   ]
  },
  {
   "cell_type": "code",
   "execution_count": null,
   "metadata": {
    "vscode": {
     "languageId": "ocaml"
    }
   },
   "outputs": [],
   "source": [
    "\"123,40,sto,50\"\n",
    "|> String.split_on_char ','\n",
    "|> List.filter_map int_of_string_opt\n",
    "|> List.map (fun n -> n * n)\n"
   ]
  },
  {
   "cell_type": "code",
   "execution_count": null,
   "metadata": {
    "vscode": {
     "languageId": "ocaml"
    }
   },
   "outputs": [],
   "source": [
    "List.filter_map"
   ]
  },
  {
   "cell_type": "markdown",
   "metadata": {},
   "source": [
    "## Negibne točke"
   ]
  },
  {
   "cell_type": "code",
   "execution_count": null,
   "metadata": {
    "vscode": {
     "languageId": "ocaml"
    }
   },
   "outputs": [],
   "source": [
    "let f x = 1. /. (1. +. x)"
   ]
  },
  {
   "cell_type": "code",
   "execution_count": null,
   "metadata": {
    "vscode": {
     "languageId": "ocaml"
    }
   },
   "outputs": [],
   "source": [
    "1234.5 |> f |> f |> f |> f |> f |> f |> f |> f |> f |> f |> f |> f |> f |> f |> f |> f |> f"
   ]
  },
  {
   "cell_type": "code",
   "execution_count": null,
   "metadata": {
    "vscode": {
     "languageId": "ocaml"
    }
   },
   "outputs": [],
   "source": [
    "let rec fact = fun n -> if n = 0 then 1 else n * fact (n - 1)"
   ]
  },
  {
   "cell_type": "code",
   "execution_count": null,
   "metadata": {
    "vscode": {
     "languageId": "ocaml"
    }
   },
   "outputs": [],
   "source": [
    "fact 40"
   ]
  },
  {
   "cell_type": "code",
   "execution_count": null,
   "metadata": {
    "vscode": {
     "languageId": "ocaml"
    }
   },
   "outputs": [],
   "source": [
    "let fi = fun g -> fun n -> if n = 0 then 1 else n * g (n - 1)"
   ]
  },
  {
   "cell_type": "code",
   "execution_count": 31,
   "metadata": {
    "vscode": {
     "languageId": "ocaml"
    }
   },
   "outputs": [
    {
     "data": {
      "text/plain": [
       "- : int list = [1; 2; 3; 4; 5; 6; 7; 8; 9; 10; 11; 12; 13; 14; 15]\n"
      ]
     },
     "execution_count": 31,
     "metadata": {},
     "output_type": "execute_result"
    }
   ],
   "source": [
    "List.init 15 succ"
   ]
  },
  {
   "cell_type": "code",
   "execution_count": 32,
   "metadata": {
    "vscode": {
     "languageId": "ocaml"
    }
   },
   "outputs": [
    {
     "data": {
      "text/plain": [
       "- : int list = [1; 1; 4; 9; 16; 25; 36; 49; 64; 81; 100; 121; 144; 169; 196]\n"
      ]
     },
     "execution_count": 32,
     "metadata": {},
     "output_type": "execute_result"
    }
   ],
   "source": [
    "List.init 15 (fi succ)"
   ]
  },
  {
   "cell_type": "code",
   "execution_count": 33,
   "metadata": {
    "vscode": {
     "languageId": "ocaml"
    }
   },
   "outputs": [
    {
     "data": {
      "text/plain": [
       "- : int list = [1; 1; 2; 12; 36; 80; 150; 252; 392; 576]\n"
      ]
     },
     "execution_count": 33,
     "metadata": {},
     "output_type": "execute_result"
    }
   ],
   "source": [
    "List.init 10 (succ |> fi |> fi)"
   ]
  },
  {
   "cell_type": "code",
   "execution_count": 34,
   "metadata": {
    "vscode": {
     "languageId": "ocaml"
    }
   },
   "outputs": [
    {
     "data": {
      "text/plain": [
       "- : int list = [1; 1; 2; 6; 48; 180; 480; 1050; 2016; 3528]\n"
      ]
     },
     "execution_count": 34,
     "metadata": {},
     "output_type": "execute_result"
    }
   ],
   "source": [
    "List.init 10 (succ |> fi |> fi |> fi)"
   ]
  },
  {
   "cell_type": "code",
   "execution_count": 35,
   "metadata": {
    "vscode": {
     "languageId": "ocaml"
    }
   },
   "outputs": [
    {
     "data": {
      "text/plain": [
       "- : int list = [1; 1; 2; 6; 24; 240; 1080; 3360; 8400; 18144]\n"
      ]
     },
     "execution_count": 35,
     "metadata": {},
     "output_type": "execute_result"
    }
   ],
   "source": [
    "List.init 10 (succ |> fi |> fi |> fi |> fi)"
   ]
  },
  {
   "cell_type": "code",
   "execution_count": 36,
   "metadata": {
    "vscode": {
     "languageId": "ocaml"
    }
   },
   "outputs": [
    {
     "data": {
      "text/plain": [
       "- : int list = [1; 1; 2; 6; 24; 120; 1440; 7560; 26880; 75600]\n"
      ]
     },
     "execution_count": 36,
     "metadata": {},
     "output_type": "execute_result"
    }
   ],
   "source": [
    "List.init 10 (succ |> fi |> fi |> fi |> fi |> fi)"
   ]
  },
  {
   "cell_type": "code",
   "execution_count": 37,
   "metadata": {
    "vscode": {
     "languageId": "ocaml"
    }
   },
   "outputs": [
    {
     "data": {
      "text/plain": [
       "val ponovi : int -> ('a -> 'a) -> 'a -> 'a = <fun>\n"
      ]
     },
     "execution_count": 37,
     "metadata": {},
     "output_type": "execute_result"
    }
   ],
   "source": [
    "let rec ponovi n f x = if n = 0 then x else ponovi (n - 1) f (f x)"
   ]
  },
  {
   "cell_type": "code",
   "execution_count": 38,
   "metadata": {
    "vscode": {
     "languageId": "ocaml"
    }
   },
   "outputs": [
    {
     "data": {
      "text/plain": [
       "- : int = 50\n"
      ]
     },
     "execution_count": 38,
     "metadata": {},
     "output_type": "execute_result"
    }
   ],
   "source": [
    "ponovi 10 succ 40"
   ]
  },
  {
   "cell_type": "code",
   "execution_count": 39,
   "metadata": {
    "vscode": {
     "languageId": "ocaml"
    }
   },
   "outputs": [
    {
     "data": {
      "text/plain": [
       "- : int list = [1; 1; 2; 6; 24; 120; 1440; 7560; 26880; 75600]\n"
      ]
     },
     "execution_count": 39,
     "metadata": {},
     "output_type": "execute_result"
    }
   ],
   "source": [
    "List.init 10 (succ |> fi |> fi |> fi |> fi |> fi)"
   ]
  },
  {
   "cell_type": "code",
   "execution_count": 40,
   "metadata": {
    "vscode": {
     "languageId": "ocaml"
    }
   },
   "outputs": [
    {
     "data": {
      "text/plain": [
       "- : int list = [1; 1; 2; 6; 24; 120; 1440; 7560; 26880; 75600]\n"
      ]
     },
     "execution_count": 40,
     "metadata": {},
     "output_type": "execute_result"
    }
   ],
   "source": [
    "List.init 10 (ponovi 5 fi succ)"
   ]
  },
  {
   "cell_type": "code",
   "execution_count": 41,
   "metadata": {
    "vscode": {
     "languageId": "ocaml"
    }
   },
   "outputs": [
    {
     "data": {
      "text/plain": [
       "- : int list list =\n",
       "[[1; 2; 3; 4; 5; 6; 7; 8; 9; 10; 11; 12];\n",
       " [1; 1; 4; 9; 16; 25; 36; 49; 64; 81; 100; 121];\n",
       " [1; 1; 2; 12; 36; 80; 150; 252; 392; 576; 810; 1100];\n",
       " [1; 1; 2; 6; 48; 180; 480; 1050; 2016; 3528; 5760; 8910];\n",
       " [1; 1; 2; 6; 24; 240; 1080; 3360; 8400; 18144; 35280; 63360];\n",
       " [1; 1; 2; 6; 24; 120; 1440; 7560; 26880; 75600; 181440; 388080];\n",
       " [1; 1; 2; 6; 24; 120; 720; 10080; 60480; 241920; 756000; 1995840];\n",
       " [1; 1; 2; 6; 24; 120; 720; 5040; 80640; 544320; 2419200; 8316000];\n",
       " [1; 1; 2; 6; 24; 120; 720; 5040; 40320; 725760; 5443200; 26611200];\n",
       " [1; 1; 2; 6; 24; 120; 720; 5040; 40320; 362880; 7257600; 59875200]]\n"
      ]
     },
     "execution_count": 41,
     "metadata": {},
     "output_type": "execute_result"
    }
   ],
   "source": [
    "List.init 10 (fun n -> List.init 12 (ponovi n fi succ))"
   ]
  },
  {
   "cell_type": "code",
   "execution_count": 42,
   "metadata": {
    "vscode": {
     "languageId": "ocaml"
    }
   },
   "outputs": [
    {
     "data": {
      "text/plain": [
       "- : int list list =\n",
       "[[-1; -2; 4; 3; 2; 1; 0; 6; 5; 4; 3; 2];\n",
       " [1; -1; -4; 12; 12; 10; 6; 0; 48; 45; 40; 33];\n",
       " [1; 1; -2; -12; 48; 60; 60; 42; 0; 432; 450; 440];\n",
       " [1; 1; 2; -6; -48; 240; 360; 420; 336; 0; 4320; 4950];\n",
       " [1; 1; 2; 6; -24; -240; 1440; 2520; 3360; 3024; 0; 47520];\n",
       " [1; 1; 2; 6; 24; -120; -1440; 10080; 20160; 30240; 30240; 0];\n",
       " [1; 1; 2; 6; 24; 120; -720; -10080; 80640; 181440; 302400; 332640];\n",
       " [1; 1; 2; 6; 24; 120; 720; -5040; -80640; 725760; 1814400; 3326400];\n",
       " [1; 1; 2; 6; 24; 120; 720; 5040; -40320; -725760; 7257600; 19958400];\n",
       " [1; 1; 2; 6; 24; 120; 720; 5040; 40320; -362880; -7257600; 79833600]]\n"
      ]
     },
     "execution_count": 42,
     "metadata": {},
     "output_type": "execute_result"
    }
   ],
   "source": [
    "List.init 10 (fun n -> List.init 12 (ponovi n fi (fun x -> (13 * x - 15) mod 7)))"
   ]
  },
  {
   "cell_type": "code",
   "execution_count": 43,
   "metadata": {
    "vscode": {
     "languageId": "ocaml"
    }
   },
   "outputs": [
    {
     "data": {
      "text/plain": [
       "- : int list list =\n",
       "[[1; 1; 2; 6; 24; 120; 720; 5040; 40320; 362880; 3628800; 39916800];\n",
       " [1; 1; 2; 6; 24; 120; 720; 5040; 40320; 362880; 3628800; 39916800];\n",
       " [1; 1; 2; 6; 24; 120; 720; 5040; 40320; 362880; 3628800; 39916800];\n",
       " [1; 1; 2; 6; 24; 120; 720; 5040; 40320; 362880; 3628800; 39916800];\n",
       " [1; 1; 2; 6; 24; 120; 720; 5040; 40320; 362880; 3628800; 39916800];\n",
       " [1; 1; 2; 6; 24; 120; 720; 5040; 40320; 362880; 3628800; 39916800];\n",
       " [1; 1; 2; 6; 24; 120; 720; 5040; 40320; 362880; 3628800; 39916800];\n",
       " [1; 1; 2; 6; 24; 120; 720; 5040; 40320; 362880; 3628800; 39916800];\n",
       " [1; 1; 2; 6; 24; 120; 720; 5040; 40320; 362880; 3628800; 39916800];\n",
       " [1; 1; 2; 6; 24; 120; 720; 5040; 40320; 362880; 3628800; 39916800]]\n"
      ]
     },
     "execution_count": 43,
     "metadata": {},
     "output_type": "execute_result"
    }
   ],
   "source": [
    "List.init 10 (fun n -> List.init 12 (ponovi n fi fact))"
   ]
  },
  {
   "cell_type": "code",
   "execution_count": 44,
   "metadata": {
    "vscode": {
     "languageId": "ocaml"
    }
   },
   "outputs": [
    {
     "data": {
      "text/plain": [
       "- : (int -> int) -> int -> int = <fun>\n"
      ]
     },
     "execution_count": 44,
     "metadata": {},
     "output_type": "execute_result"
    }
   ],
   "source": [
    "fi"
   ]
  },
  {
   "cell_type": "code",
   "execution_count": 45,
   "metadata": {
    "vscode": {
     "languageId": "ocaml"
    }
   },
   "outputs": [
    {
     "data": {
      "text/plain": [
       "val fakulteta : int -> int = <fun>\n"
      ]
     },
     "execution_count": 45,
     "metadata": {},
     "output_type": "execute_result"
    }
   ],
   "source": [
    "let rec fakulteta n = fi fakulteta n"
   ]
  },
  {
   "cell_type": "code",
   "execution_count": 46,
   "metadata": {
    "vscode": {
     "languageId": "ocaml"
    }
   },
   "outputs": [
    {
     "data": {
      "text/plain": [
       "- : int = 3628800\n"
      ]
     },
     "execution_count": 46,
     "metadata": {},
     "output_type": "execute_result"
    }
   ],
   "source": [
    "fakulteta 10"
   ]
  },
  {
   "cell_type": "code",
   "execution_count": 47,
   "metadata": {
    "vscode": {
     "languageId": "ocaml"
    }
   },
   "outputs": [
    {
     "data": {
      "text/plain": [
       "val rek : (('a -> 'b) -> 'a -> 'b) -> 'a -> 'b = <fun>\n"
      ]
     },
     "execution_count": 47,
     "metadata": {},
     "output_type": "execute_result"
    }
   ],
   "source": [
    "let rec rek telo n = telo (rek telo) n"
   ]
  },
  {
   "cell_type": "code",
   "execution_count": 48,
   "metadata": {
    "vscode": {
     "languageId": "ocaml"
    }
   },
   "outputs": [
    {
     "data": {
      "text/plain": [
       "- : int -> int = <fun>\n"
      ]
     },
     "execution_count": 48,
     "metadata": {},
     "output_type": "execute_result"
    }
   ],
   "source": [
    "rek fi"
   ]
  },
  {
   "cell_type": "code",
   "execution_count": 49,
   "metadata": {
    "vscode": {
     "languageId": "ocaml"
    }
   },
   "outputs": [
    {
     "data": {
      "text/plain": [
       "val fibonaccijevo_telo : (int -> int) -> int -> int = <fun>\n"
      ]
     },
     "execution_count": 49,
     "metadata": {},
     "output_type": "execute_result"
    }
   ],
   "source": [
    "let fibonaccijevo_telo g n = if n <= 1 then n else g (n - 1) + g (n - 2)"
   ]
  },
  {
   "cell_type": "code",
   "execution_count": 50,
   "metadata": {
    "vscode": {
     "languageId": "ocaml"
    }
   },
   "outputs": [
    {
     "data": {
      "text/plain": [
       "- : int list list =\n",
       "[[1; 1; 2; 6; 24; 120; 720; 5040; 40320; 362880; 3628800; 39916800];\n",
       " [0; 1; 2; 3; 8; 30; 144; 840; 5760; 45360; 403200; 3991680];\n",
       " [0; 1; 1; 3; 5; 11; 38; 174; 984; 6600; 51120; 448560];\n",
       " [0; 1; 1; 2; 4; 8; 16; 49; 212; 1158; 7584; 57720];\n",
       " [0; 1; 1; 2; 3; 6; 12; 24; 65; 261; 1370; 8742];\n",
       " [0; 1; 1; 2; 3; 5; 9; 18; 36; 89; 326; 1631];\n",
       " [0; 1; 1; 2; 3; 5; 8; 14; 27; 54; 125; 415];\n",
       " [0; 1; 1; 2; 3; 5; 8; 13; 22; 41; 81; 179];\n",
       " [0; 1; 1; 2; 3; 5; 8; 13; 21; 35; 63; 122];\n",
       " [0; 1; 1; 2; 3; 5; 8; 13; 21; 34; 56; 98]]\n"
      ]
     },
     "execution_count": 50,
     "metadata": {},
     "output_type": "execute_result"
    }
   ],
   "source": [
    "List.init 10 (fun n -> List.init 12 (ponovi n fibonaccijevo_telo fact))"
   ]
  },
  {
   "cell_type": "code",
   "execution_count": 51,
   "metadata": {
    "vscode": {
     "languageId": "ocaml"
    }
   },
   "outputs": [
    {
     "data": {
      "text/plain": [
       "val g : int -> int = <fun>\n"
      ]
     },
     "execution_count": 51,
     "metadata": {},
     "output_type": "execute_result"
    }
   ],
   "source": [
    "let g = rek fibonaccijevo_telo"
   ]
  },
  {
   "cell_type": "code",
   "execution_count": 55,
   "metadata": {
    "vscode": {
     "languageId": "ocaml"
    }
   },
   "outputs": [
    {
     "data": {
      "text/plain": [
       "- : int = 233\n"
      ]
     },
     "execution_count": 55,
     "metadata": {},
     "output_type": "execute_result"
    }
   ],
   "source": [
    "g 13"
   ]
  },
  {
   "cell_type": "markdown",
   "metadata": {},
   "source": [
    "## Seznami"
   ]
  },
  {
   "cell_type": "code",
   "execution_count": 59,
   "metadata": {
    "vscode": {
     "languageId": "ocaml"
    }
   },
   "outputs": [
    {
     "data": {
      "text/plain": [
       "type seznam = Nil | Cons of int * seznam\n"
      ]
     },
     "execution_count": 59,
     "metadata": {},
     "output_type": "execute_result"
    }
   ],
   "source": [
    "type seznam =\n",
    "  | Nil\n",
    "  | Cons of int * seznam"
   ]
  },
  {
   "cell_type": "code",
   "execution_count": 60,
   "metadata": {
    "vscode": {
     "languageId": "ocaml"
    }
   },
   "outputs": [
    {
     "data": {
      "text/plain": [
       "- : seznam = Cons (1, Cons (2, Nil))\n"
      ]
     },
     "execution_count": 60,
     "metadata": {},
     "output_type": "execute_result"
    }
   ],
   "source": [
    "Cons (1, Cons (2, Nil))"
   ]
  },
  {
   "cell_type": "code",
   "execution_count": 61,
   "metadata": {
    "vscode": {
     "languageId": "ocaml"
    }
   },
   "outputs": [
    {
     "data": {
      "text/plain": [
       "val vsota : seznam -> int = <fun>\n"
      ]
     },
     "execution_count": 61,
     "metadata": {},
     "output_type": "execute_result"
    }
   ],
   "source": [
    "let rec vsota sez =\n",
    "  match sez with\n",
    "  | Nil -> 0\n",
    "  | Cons (hd, tl) -> hd + vsota tl"
   ]
  },
  {
   "cell_type": "code",
   "execution_count": 63,
   "metadata": {
    "vscode": {
     "languageId": "ocaml"
    }
   },
   "outputs": [
    {
     "data": {
      "text/plain": [
       "- : int = 3\n"
      ]
     },
     "execution_count": 63,
     "metadata": {},
     "output_type": "execute_result"
    }
   ],
   "source": [
    "vsota (Cons (1, Cons (2, Nil)))"
   ]
  },
  {
   "cell_type": "code",
   "execution_count": 64,
   "metadata": {
    "vscode": {
     "languageId": "ocaml"
    }
   },
   "outputs": [
    {
     "data": {
      "text/plain": [
       "val zaporedna : int -> int -> seznam = <fun>\n"
      ]
     },
     "execution_count": 64,
     "metadata": {},
     "output_type": "execute_result"
    }
   ],
   "source": [
    "let rec zaporedna m n =\n",
    "  if m <= n then Cons (m, zaporedna (m + 1) n) else Nil"
   ]
  },
  {
   "cell_type": "code",
   "execution_count": 65,
   "metadata": {
    "vscode": {
     "languageId": "ocaml"
    }
   },
   "outputs": [
    {
     "data": {
      "text/plain": [
       "- : seznam =\n",
       "Cons (10, Cons (11, Cons (12, Cons (13, Cons (14, Cons (15, Nil))))))\n"
      ]
     },
     "execution_count": 65,
     "metadata": {},
     "output_type": "execute_result"
    }
   ],
   "source": [
    "zaporedna 10 15"
   ]
  },
  {
   "cell_type": "markdown",
   "metadata": {},
   "source": [
    "## Naravna števila"
   ]
  },
  {
   "cell_type": "code",
   "execution_count": 66,
   "metadata": {
    "vscode": {
     "languageId": "ocaml"
    }
   },
   "outputs": [
    {
     "data": {
      "text/plain": [
       "type naravno = Nic | Naslednik of naravno\n"
      ]
     },
     "execution_count": 66,
     "metadata": {},
     "output_type": "execute_result"
    }
   ],
   "source": [
    "type naravno =\n",
    "  | Nic\n",
    "  | Naslednik of naravno"
   ]
  },
  {
   "cell_type": "code",
   "execution_count": 68,
   "metadata": {
    "vscode": {
     "languageId": "ocaml"
    }
   },
   "outputs": [
    {
     "data": {
      "text/plain": [
       "val tri : naravno = Naslednik (Naslednik (Naslednik Nic))\n"
      ]
     },
     "execution_count": 68,
     "metadata": {},
     "output_type": "execute_result"
    }
   ],
   "source": [
    "let tri = Naslednik (Naslednik (Naslednik Nic))"
   ]
  },
  {
   "cell_type": "code",
   "execution_count": 108,
   "metadata": {
    "vscode": {
     "languageId": "ocaml"
    }
   },
   "outputs": [
    {
     "data": {
      "text/plain": [
       "val neskoncno : naravno = Naslednik <cycle>\n"
      ]
     },
     "execution_count": 108,
     "metadata": {},
     "output_type": "execute_result"
    }
   ],
   "source": [
    "let rec neskoncno = Naslednik neskoncno"
   ]
  },
  {
   "cell_type": "markdown",
   "metadata": {},
   "source": [
    "## Iskalna drevesa"
   ]
  },
  {
   "cell_type": "code",
   "execution_count": 69,
   "metadata": {
    "vscode": {
     "languageId": "ocaml"
    }
   },
   "outputs": [
    {
     "data": {
      "text/plain": [
       "type tree = Empty | Node of tree * int * tree\n"
      ]
     },
     "execution_count": 69,
     "metadata": {},
     "output_type": "execute_result"
    }
   ],
   "source": [
    "type tree =\n",
    "  | Empty\n",
    "  | Node of tree * int * tree"
   ]
  },
  {
   "cell_type": "code",
   "execution_count": 83,
   "metadata": {
    "vscode": {
     "languageId": "ocaml"
    }
   },
   "outputs": [
    {
     "data": {
      "text/plain": [
       "val random_tree : int -> int -> int -> tree = <fun>\n"
      ]
     },
     "execution_count": 83,
     "metadata": {},
     "output_type": "execute_result"
    }
   ],
   "source": [
    "let rec random_tree h m n =\n",
    "  if h = 0 || m >= n then\n",
    "    Empty \n",
    "  else\n",
    "    let x = m + Random.int (n - m) in\n",
    "    Node (random_tree (h - 1) m (x - 1), x, random_tree (h - 1) (x + 1) n)"
   ]
  },
  {
   "cell_type": "code",
   "execution_count": 94,
   "metadata": {
    "vscode": {
     "languageId": "ocaml"
    }
   },
   "outputs": [
    {
     "data": {
      "text/plain": [
       "val print_tree : tree -> unit = <fun>\n"
      ]
     },
     "execution_count": 94,
     "metadata": {},
     "output_type": "execute_result"
    }
   ],
   "source": [
    "let print_tree t =\n",
    "  let rec aux depth =\n",
    "    function\n",
    "    | Empty -> ()\n",
    "    | Node (l, x, r) ->\n",
    "        aux (depth + 1) r;\n",
    "        print_endline (String.make (4 * depth) ' ' ^ string_of_int x);\n",
    "        aux (depth + 1) l\n",
    "  in\n",
    "  aux 0 t"
   ]
  },
  {
   "cell_type": "code",
   "execution_count": 84,
   "metadata": {
    "vscode": {
     "languageId": "ocaml"
    }
   },
   "outputs": [
    {
     "data": {
      "text/plain": [
       "val my_tree : tree =\n",
       "  Node\n",
       "   (Node\n",
       "     (Node (Node (Node (Empty, 0, Empty), 4, Empty), 6,\n",
       "       Node (Node (Empty, 9, Empty), 12, Node (Empty, 13, Empty))),\n",
       "     15,\n",
       "     Node (Node (Node (Empty, 20, Empty), 36, Node (Empty, 56, Empty)), 60,\n",
       "      Node (Node (Empty, 69, Empty), 86, Node (Empty, 95, Empty)))),\n",
       "   123,\n",
       "   Node\n",
       "    (Node (Empty, 124,\n",
       "      Node (Node (Empty, 138, Empty), 150, Node (Empty, 156, Empty))),\n",
       "    180,\n",
       "    Node (Node (Node (Empty, 183, Empty), 187, Empty), 189,\n",
       "     Node (Node (Empty, 190, Empty), 193, Node (Empty, 194, Empty)))))\n"
      ]
     },
     "execution_count": 84,
     "metadata": {},
     "output_type": "execute_result"
    }
   ],
   "source": [
    "let my_tree = random_tree 5 0 200"
   ]
  },
  {
   "cell_type": "code",
   "execution_count": 96,
   "metadata": {
    "vscode": {
     "languageId": "ocaml"
    }
   },
   "outputs": [
    {
     "name": "stdout",
     "output_type": "stream",
     "text": [
      "        99\n",
      "            96\n",
      "    92\n",
      "            90\n",
      "        54\n",
      "            49\n",
      "35\n",
      "            32\n",
      "        31\n",
      "            26\n",
      "    25\n",
      "            8\n",
      "        2\n",
      "            0\n"
     ]
    },
    {
     "data": {
      "text/plain": [
       "- : unit = ()\n"
      ]
     },
     "execution_count": 96,
     "metadata": {},
     "output_type": "execute_result"
    }
   ],
   "source": [
    "print_tree (random_tree 4 0 100)"
   ]
  },
  {
   "cell_type": "code",
   "execution_count": 74,
   "metadata": {
    "vscode": {
     "languageId": "ocaml"
    }
   },
   "outputs": [
    {
     "data": {
      "text/plain": [
       "val find : int -> tree -> bool = <fun>\n"
      ]
     },
     "execution_count": 74,
     "metadata": {},
     "output_type": "execute_result"
    }
   ],
   "source": [
    "let rec find x t =\n",
    "  match t with\n",
    "  | Empty -> false\n",
    "  | Node (l, y, r) when x = y -> true\n",
    "  | Node (l, y, r) when x < y -> find x l\n",
    "  | Node (l, y, r) -> find x r"
   ]
  },
  {
   "cell_type": "code",
   "execution_count": 77,
   "metadata": {
    "vscode": {
     "languageId": "ocaml"
    }
   },
   "outputs": [
    {
     "data": {
      "text/plain": [
       "- : bool = true\n"
      ]
     },
     "execution_count": 77,
     "metadata": {},
     "output_type": "execute_result"
    }
   ],
   "source": [
    "find 124 my_tree"
   ]
  },
  {
   "cell_type": "markdown",
   "metadata": {},
   "source": [
    "## Slovarji z iskalnimi drevesi"
   ]
  },
  {
   "cell_type": "code",
   "execution_count": 98,
   "metadata": {
    "vscode": {
     "languageId": "ocaml"
    }
   },
   "outputs": [
    {
     "data": {
      "text/plain": [
       "type 'a dict = Empty | Node of 'a dict * string * 'a * 'a dict\n"
      ]
     },
     "execution_count": 98,
     "metadata": {},
     "output_type": "execute_result"
    }
   ],
   "source": [
    "type 'a dict =\n",
    "  | Empty\n",
    "  | Node of 'a dict * string * 'a * 'a dict"
   ]
  },
  {
   "cell_type": "code",
   "execution_count": 101,
   "metadata": {
    "vscode": {
     "languageId": "ocaml"
    }
   },
   "outputs": [
    {
     "data": {
      "text/plain": [
       "val update : string -> 'a -> 'a dict -> 'a dict = <fun>\n"
      ]
     },
     "execution_count": 101,
     "metadata": {},
     "output_type": "execute_result"
    }
   ],
   "source": [
    "let rec update k v d =\n",
    "  match d with\n",
    "  | Empty -> Node (Empty, k, v, Empty)\n",
    "  | Node (l, k', _, r) when k = k' -> Node (l, k, v, r)\n",
    "  | Node (l, k', v', r) when k < k' -> Node (update k v l, k', v', r)\n",
    "  | Node (l, k', v', r) -> Node (l, k', v', update k v r)"
   ]
  },
  {
   "cell_type": "code",
   "execution_count": 106,
   "metadata": {
    "vscode": {
     "languageId": "ocaml"
    }
   },
   "outputs": [
    {
     "data": {
      "text/plain": [
       "- : float option = Some 0.65\n"
      ]
     },
     "execution_count": 106,
     "metadata": {},
     "output_type": "execute_result"
    }
   ],
   "source": [
    "Empty\n",
    "|> update \"čebula\" 0.69\n",
    "|> update \"mleko\" 1.0\n",
    "|> update \"čebula\" 0.65\n",
    "|> update \"kruh\" 2.3\n",
    "|> lookup \"čebula\""
   ]
  },
  {
   "cell_type": "code",
   "execution_count": null,
   "metadata": {
    "vscode": {
     "languageId": "ocaml"
    }
   },
   "outputs": [
    {
     "data": {
      "text/plain": [
       "val lookup : string -> 'a dict -> 'a option = <fun>\n"
      ]
     },
     "metadata": {},
     "output_type": "display_data"
    }
   ],
   "source": [
    "let rec lookup k d =\n",
    "  match d with\n",
    "  | Empty -> None\n",
    "  | Node (l, k', v, r) when k = k' -> Some v\n",
    "  | Node (l, k', v, r) when k < k' -> lookup k l\n",
    "  | Node (l, k', v, r) -> lookup k r"
   ]
  }
 ],
 "metadata": {
  "kernelspec": {
   "display_name": "OCaml default",
   "language": "OCaml",
   "name": "ocaml-jupyter-default"
  },
  "language_info": {
   "codemirror_mode": "text/x-ocaml",
   "file_extension": ".ml",
   "mimetype": "text/x-ocaml",
   "name": "OCaml",
   "nbconverter_exporter": null,
   "pygments_lexer": "OCaml",
   "version": "4.14.1"
  }
 },
 "nbformat": 4,
 "nbformat_minor": 2
}
