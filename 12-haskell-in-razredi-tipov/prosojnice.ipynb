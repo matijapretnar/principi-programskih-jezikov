{
 "cells": [
  {
   "cell_type": "markdown",
   "id": "05061c8c",
   "metadata": {},
   "source": [
    "# Haskell in razredi tipov"
   ]
  },
  {
   "cell_type": "markdown",
   "id": "4da1b492",
   "metadata": {},
   "source": [
    "## Uvod v Haskell"
   ]
  },
  {
   "cell_type": "markdown",
   "id": "ac5c06ac",
   "metadata": {},
   "source": [
    "### **Aritmetične** operacije so večinoma standardne"
   ]
  },
  {
   "cell_type": "code",
   "execution_count": null,
   "id": "5116b7b3",
   "metadata": {},
   "outputs": [],
   "source": [
    "12 * (34 + 67) - 89"
   ]
  },
  {
   "cell_type": "code",
   "execution_count": null,
   "id": "56130891",
   "metadata": {},
   "outputs": [],
   "source": [
    "22 / 7"
   ]
  },
  {
   "cell_type": "code",
   "execution_count": null,
   "id": "b8993928",
   "metadata": {},
   "outputs": [],
   "source": [
    "12 ** 34"
   ]
  },
  {
   "cell_type": "code",
   "execution_count": null,
   "id": "42732d17",
   "metadata": {},
   "outputs": [],
   "source": [
    "12 ^ 34"
   ]
  },
  {
   "cell_type": "markdown",
   "id": "fe81ceb0",
   "metadata": {},
   "source": [
    "### **Logične operacije** so standardne"
   ]
  },
  {
   "cell_type": "code",
   "execution_count": null,
   "id": "9e7085fb",
   "metadata": {},
   "outputs": [],
   "source": [
    "True || False"
   ]
  },
  {
   "cell_type": "code",
   "execution_count": null,
   "id": "a84a8bb9",
   "metadata": {},
   "outputs": [],
   "source": [
    "False && not (False || True)"
   ]
  },
  {
   "cell_type": "code",
   "execution_count": null,
   "id": "2679f018",
   "metadata": {},
   "outputs": [],
   "source": [
    "if True then 10 else 20"
   ]
  },
  {
   "cell_type": "markdown",
   "id": "1c8c1082",
   "metadata": {},
   "source": [
    "### **Primerjave** so standardne"
   ]
  },
  {
   "cell_type": "code",
   "execution_count": null,
   "id": "41a33c05",
   "metadata": {},
   "outputs": [],
   "source": [
    "1 == 2"
   ]
  },
  {
   "cell_type": "code",
   "execution_count": null,
   "id": "4f510602",
   "metadata": {},
   "outputs": [],
   "source": [
    "1 /= 2"
   ]
  },
  {
   "cell_type": "code",
   "execution_count": null,
   "id": "c03dfdec",
   "metadata": {},
   "outputs": [],
   "source": [
    "1 < 2"
   ]
  },
  {
   "cell_type": "code",
   "execution_count": null,
   "id": "6f9160f7",
   "metadata": {},
   "outputs": [],
   "source": [
    "1 >= 2"
   ]
  },
  {
   "cell_type": "markdown",
   "id": "76768edb",
   "metadata": {},
   "source": [
    "### **Argumente funkcij** pišemo brez oklepajev"
   ]
  },
  {
   "cell_type": "code",
   "execution_count": null,
   "id": "de4ed469",
   "metadata": {},
   "outputs": [],
   "source": [
    "sin pi"
   ]
  },
  {
   "cell_type": "code",
   "execution_count": null,
   "id": "f7c79d7d",
   "metadata": {},
   "outputs": [],
   "source": [
    "min 9 10"
   ]
  },
  {
   "cell_type": "code",
   "execution_count": null,
   "id": "49410376",
   "metadata": {},
   "outputs": [],
   "source": [
    "sin 2 * pi"
   ]
  },
  {
   "cell_type": "code",
   "execution_count": null,
   "id": "b51940b5",
   "metadata": {},
   "outputs": [],
   "source": [
    "sin (2 * pi)"
   ]
  },
  {
   "cell_type": "code",
   "execution_count": null,
   "id": "4c93cea1",
   "metadata": {},
   "outputs": [],
   "source": [
    "sin 3 + log 10 - min 2 6"
   ]
  },
  {
   "cell_type": "markdown",
   "id": "5f418f75",
   "metadata": {},
   "source": [
    "### Funkcije kličemo **infiksno** ali **prefiksno**"
   ]
  },
  {
   "cell_type": "code",
   "execution_count": null,
   "id": "583d677d",
   "metadata": {},
   "outputs": [],
   "source": [
    "1 + 2"
   ]
  },
  {
   "cell_type": "code",
   "execution_count": null,
   "id": "9310fe5b",
   "metadata": {},
   "outputs": [],
   "source": [
    "(+) 1 2"
   ]
  },
  {
   "cell_type": "code",
   "execution_count": null,
   "id": "8478e491",
   "metadata": {},
   "outputs": [],
   "source": [
    "mod 12345 678"
   ]
  },
  {
   "cell_type": "code",
   "execution_count": null,
   "id": "f6feb494",
   "metadata": {},
   "outputs": [],
   "source": [
    "12345 `mod` 678"
   ]
  },
  {
   "cell_type": "markdown",
   "id": "ecf96743",
   "metadata": {},
   "source": [
    "### Tudi infiksne funkcije lahko **delno uporabimo**"
   ]
  },
  {
   "cell_type": "code",
   "execution_count": null,
   "id": "6783e395",
   "metadata": {},
   "outputs": [],
   "source": [
    "razpolovi = (/ 2)"
   ]
  },
  {
   "cell_type": "code",
   "execution_count": null,
   "id": "30c07fc1",
   "metadata": {},
   "outputs": [],
   "source": [
    "razpolovi 3"
   ]
  },
  {
   "cell_type": "code",
   "execution_count": null,
   "id": "6b2de487",
   "metadata": {},
   "outputs": [],
   "source": [
    "inverz = (1 /)"
   ]
  },
  {
   "cell_type": "code",
   "execution_count": null,
   "id": "f43374d9",
   "metadata": {},
   "outputs": [],
   "source": [
    "inverz 7"
   ]
  },
  {
   "cell_type": "code",
   "execution_count": null,
   "id": "b298961d",
   "metadata": {},
   "outputs": [],
   "source": [
    "zadnjaStevka = (`mod` 10)"
   ]
  },
  {
   "cell_type": "code",
   "execution_count": null,
   "id": "8c147a03",
   "metadata": {},
   "outputs": [],
   "source": [
    "zadnjaStevka 12345"
   ]
  },
  {
   "cell_type": "markdown",
   "id": "a4fe7367",
   "metadata": {},
   "source": [
    "### Haskell pozna tudi **nabore** in **sezname**"
   ]
  },
  {
   "cell_type": "code",
   "execution_count": null,
   "id": "04488cd2",
   "metadata": {},
   "outputs": [],
   "source": [
    "fst (True, 'a')"
   ]
  },
  {
   "cell_type": "code",
   "execution_count": null,
   "id": "b6777325",
   "metadata": {},
   "outputs": [],
   "source": [
    "zip [1,2,3] \"abc\""
   ]
  },
  {
   "cell_type": "code",
   "execution_count": null,
   "id": "b0654f84",
   "metadata": {},
   "outputs": [],
   "source": [
    "[1,2] : [[3,4,5],[6,7]] ++ [[8..15]]"
   ]
  },
  {
   "cell_type": "code",
   "execution_count": null,
   "id": "a8f45d65",
   "metadata": {},
   "outputs": [],
   "source": [
    "reverse $ take 5 $ reverse [1..100]"
   ]
  },
  {
   "cell_type": "markdown",
   "id": "4f02060e",
   "metadata": {},
   "source": [
    "### **Nizi** so seznami znakov"
   ]
  },
  {
   "cell_type": "code",
   "execution_count": null,
   "id": "3b0c1f0e",
   "metadata": {},
   "outputs": [],
   "source": [
    "['A','B','C']"
   ]
  },
  {
   "cell_type": "code",
   "execution_count": null,
   "id": "51035c64",
   "metadata": {},
   "outputs": [],
   "source": [
    "'A' : 'B' : ['C','D'] ++ \"EFG\""
   ]
  },
  {
   "cell_type": "code",
   "execution_count": null,
   "id": "2cb15657",
   "metadata": {},
   "outputs": [],
   "source": [
    "reverse \"Perica reže raci rep\""
   ]
  },
  {
   "cell_type": "code",
   "execution_count": null,
   "id": "b24791c7",
   "metadata": {},
   "outputs": [],
   "source": [
    "length \"disproporcioniranost\""
   ]
  },
  {
   "cell_type": "code",
   "execution_count": null,
   "id": "c16446ea",
   "metadata": {},
   "outputs": [],
   "source": [
    "['a'..'z']"
   ]
  },
  {
   "cell_type": "markdown",
   "id": "34142a6b",
   "metadata": {},
   "source": [
    "### Haskell vsebuje tudi **izpeljane sezname**"
   ]
  },
  {
   "cell_type": "code",
   "execution_count": null,
   "id": "c4a8480d",
   "metadata": {},
   "outputs": [],
   "source": [
    "[n^2 | n <- [1..10]]"
   ]
  },
  {
   "cell_type": "code",
   "execution_count": null,
   "id": "e4014e0f",
   "metadata": {},
   "outputs": [],
   "source": [
    "[n | n <- [1..50], n `mod` 7 == 0]"
   ]
  },
  {
   "cell_type": "code",
   "execution_count": null,
   "id": "c614381e",
   "metadata": {},
   "outputs": [],
   "source": [
    "[m * n | m <- [1,2,3], n <- [10,100]]"
   ]
  },
  {
   "cell_type": "code",
   "execution_count": null,
   "id": "efe75755",
   "metadata": {},
   "outputs": [],
   "source": [
    "[z | z <- \"lokomotiva\", z /= 'o']"
   ]
  },
  {
   "cell_type": "markdown",
   "id": "e0e2a212",
   "metadata": {},
   "source": [
    "### Funkcije lahko definiramo **po kosih**"
   ]
  },
  {
   "cell_type": "code",
   "execution_count": null,
   "id": "45510619",
   "metadata": {},
   "outputs": [],
   "source": [
    "map f [] = []\n",
    "map f (x : xs) = f x : map f xs"
   ]
  },
  {
   "cell_type": "code",
   "execution_count": null,
   "id": "beef0592",
   "metadata": {},
   "outputs": [],
   "source": [
    "map (* 5) [1..10]"
   ]
  },
  {
   "cell_type": "markdown",
   "id": "190710e1",
   "metadata": {},
   "source": [
    "### Na definicije lahko dodamo **stranske pogoje**"
   ]
  },
  {
   "cell_type": "code",
   "execution_count": null,
   "id": "508ba8c1",
   "metadata": {
    "vscode": {
     "languageId": "plaintext"
    }
   },
   "outputs": [],
   "source": [
    "filter p [] = []\n",
    "filter p (x : xs)\n",
    "    | p x = x : filter p xs\n",
    "    | otherwise = filter p xs"
   ]
  },
  {
   "cell_type": "code",
   "execution_count": null,
   "id": "fb64ee0f",
   "metadata": {},
   "outputs": [],
   "source": [
    "otherwise"
   ]
  },
  {
   "cell_type": "code",
   "execution_count": null,
   "id": "c18a3f1f",
   "metadata": {},
   "outputs": [],
   "source": [
    "filter even [1..100]"
   ]
  },
  {
   "cell_type": "code",
   "execution_count": null,
   "id": "6166818b",
   "metadata": {},
   "outputs": [],
   "source": [
    "filter ((== 2) . (`mod` 7)) [1..100]"
   ]
  },
  {
   "cell_type": "markdown",
   "id": "0de80676",
   "metadata": {},
   "source": [
    "### **Pomožne definicije** delamo z `where` in `let`"
   ]
  },
  {
   "cell_type": "code",
   "execution_count": null,
   "id": "aaf3955e",
   "metadata": {},
   "outputs": [],
   "source": [
    "kvadratna a b c\n",
    "    | d < 0 =\n",
    "        error \"Ni ničel\"\n",
    "    | d == 0 =\n",
    "        (p, p)\n",
    "    | otherwise =\n",
    "        let q = d ** 0.5 / (2 * a) in\n",
    "        (p - q, p + q)\n",
    "    where\n",
    "    d = b ** 2 - 4 * a * c\n",
    "    p = -b / (2 * a)"
   ]
  },
  {
   "cell_type": "markdown",
   "id": "5ef41c40",
   "metadata": {},
   "source": [
    "### Haskell je **len** jezik"
   ]
  },
  {
   "cell_type": "code",
   "execution_count": null,
   "id": "ef3dd10d",
   "metadata": {},
   "outputs": [],
   "source": [
    "ignoriraj x = 0\n",
    "divergiraj () = divergiraj ()"
   ]
  },
  {
   "cell_type": "code",
   "execution_count": null,
   "id": "e75083b8",
   "metadata": {},
   "outputs": [],
   "source": [
    "ignoriraj (divergiraj ())"
   ]
  },
  {
   "cell_type": "code",
   "execution_count": null,
   "id": "020d57ec",
   "metadata": {},
   "outputs": [],
   "source": [
    "take 10 [1,2..]"
   ]
  },
  {
   "cell_type": "code",
   "execution_count": null,
   "id": "bb023782",
   "metadata": {},
   "outputs": [],
   "source": [
    "\"tro\" ++ cycle \"lo\""
   ]
  },
  {
   "cell_type": "code",
   "execution_count": null,
   "id": "3138c6f9",
   "metadata": {},
   "outputs": [],
   "source": [
    "take 7 (\"tro\" ++ cycle \"lo\")"
   ]
  },
  {
   "cell_type": "code",
   "execution_count": null,
   "id": "c9c27578",
   "metadata": {},
   "outputs": [],
   "source": [
    "[x | x <- [1,2..], 100 `mod` x == 0]"
   ]
  },
  {
   "cell_type": "markdown",
   "id": "e188ee2a",
   "metadata": {},
   "source": [
    "### Vsak program v Haskellu **ima tip**"
   ]
  },
  {
   "cell_type": "code",
   "execution_count": null,
   "id": "a8387f03",
   "metadata": {},
   "outputs": [],
   "source": [
    ":t 3 < 5"
   ]
  },
  {
   "cell_type": "code",
   "execution_count": null,
   "id": "a40a655f",
   "metadata": {},
   "outputs": [],
   "source": [
    ":t 'x'"
   ]
  },
  {
   "cell_type": "code",
   "execution_count": null,
   "id": "9f8f3756",
   "metadata": {},
   "outputs": [],
   "source": [
    ":t [True, False, True]"
   ]
  },
  {
   "cell_type": "code",
   "execution_count": null,
   "id": "3296726c",
   "metadata": {},
   "outputs": [],
   "source": [
    ":t \"Haskell je zakon!\""
   ]
  },
  {
   "cell_type": "code",
   "execution_count": null,
   "id": "6915bd8c",
   "metadata": {
    "lines_to_next_cell": 0
   },
   "outputs": [],
   "source": [
    ":t (\"X\", True)"
   ]
  },
  {
   "cell_type": "code",
   "execution_count": null,
   "id": "d91d3131",
   "metadata": {},
   "outputs": [],
   "source": [
    ":t (||)"
   ]
  },
  {
   "cell_type": "markdown",
   "id": "8e474edd",
   "metadata": {},
   "source": [
    "### Haskell prav tako podpira **parametrični polimorfizem**"
   ]
  },
  {
   "cell_type": "code",
   "execution_count": null,
   "id": "167eb447",
   "metadata": {},
   "outputs": [],
   "source": [
    ":t (++)"
   ]
  },
  {
   "cell_type": "code",
   "execution_count": null,
   "id": "ce78c82a",
   "metadata": {},
   "outputs": [],
   "source": [
    ":t repeat"
   ]
  },
  {
   "cell_type": "code",
   "execution_count": null,
   "id": "040186e4",
   "metadata": {},
   "outputs": [],
   "source": [
    ":t []"
   ]
  },
  {
   "cell_type": "code",
   "execution_count": null,
   "id": "326534d5",
   "metadata": {},
   "outputs": [],
   "source": [
    ":t zip"
   ]
  },
  {
   "cell_type": "code",
   "execution_count": null,
   "id": "9a0a3726",
   "metadata": {},
   "outputs": [],
   "source": [
    ":t take"
   ]
  },
  {
   "cell_type": "markdown",
   "id": "538d1c18",
   "metadata": {},
   "source": [
    "### S `type` definiramo **okrajšave**, z `data` **naštevne tipe**"
   ]
  },
  {
   "cell_type": "code",
   "execution_count": null,
   "id": "bfaf2342",
   "metadata": {},
   "outputs": [],
   "source": [
    "type Naslov = String\n",
    "type Telefon = String"
   ]
  },
  {
   "cell_type": "code",
   "execution_count": null,
   "id": "e74535bc",
   "metadata": {},
   "outputs": [],
   "source": [
    "data Dostava = OsebniPrevzem\n",
    "             | PoPosti Naslov\n",
    "             | HitraDostava (Naslov, Telefon)\n",
    "\n",
    "cena :: Dostava -> Float\n",
    "cena OsebniPrevzem = 0\n",
    "cena (PoPosti _) = 2.5\n",
    "cena (HitraDostava _) = 4"
   ]
  },
  {
   "cell_type": "code",
   "execution_count": null,
   "id": "60fb75a1",
   "metadata": {},
   "outputs": [],
   "source": [
    "data Maybe a = Nothing\n",
    "             | Just a"
   ]
  },
  {
   "cell_type": "markdown",
   "id": "ba0cdc55",
   "metadata": {},
   "source": [
    "## Razredi tipov"
   ]
  },
  {
   "cell_type": "markdown",
   "id": "a4867dfa",
   "metadata": {},
   "source": [
    "### Ad-hoc polimorfne funkcije zahtevajo, da tipi pripadajo **razredom**"
   ]
  },
  {
   "cell_type": "code",
   "execution_count": null,
   "id": "500be161",
   "metadata": {},
   "outputs": [],
   "source": [
    ":t max"
   ]
  },
  {
   "cell_type": "code",
   "execution_count": null,
   "id": "463a5acb",
   "metadata": {},
   "outputs": [],
   "source": [
    ":t (==)"
   ]
  },
  {
   "cell_type": "code",
   "execution_count": null,
   "id": "794b3ae0",
   "metadata": {},
   "outputs": [],
   "source": [
    ":t (+)"
   ]
  },
  {
   "cell_type": "markdown",
   "id": "6232951e",
   "metadata": {},
   "source": [
    "### Če želimo, lahko Haskell sam **izpelje razrede**"
   ]
  },
  {
   "cell_type": "code",
   "execution_count": null,
   "id": "fe160782",
   "metadata": {},
   "outputs": [],
   "source": [
    "data Dostava = OsebniPrevzem\n",
    "             | PoPosti Naslov\n",
    "             | HitraDostava (Naslov, Telefon)\n",
    "             deriving (Eq, Show)"
   ]
  },
  {
   "cell_type": "code",
   "execution_count": null,
   "id": "0a7f3180",
   "metadata": {},
   "outputs": [],
   "source": [
    "HitraDostava (\"Jadranska ulica 21\", \"01 4766 668\")"
   ]
  },
  {
   "cell_type": "code",
   "execution_count": null,
   "id": "81b01154",
   "metadata": {},
   "outputs": [],
   "source": [
    "OsebniPrevzem /= PoPosti \"Večna pot 113\""
   ]
  },
  {
   "cell_type": "markdown",
   "id": "c96e3bf1",
   "metadata": {},
   "source": [
    "### Definiramo lahko svoje **razrede** in njihove **pripadnike**"
   ]
  },
  {
   "cell_type": "code",
   "execution_count": null,
   "id": "4815bf92",
   "metadata": {},
   "outputs": [],
   "source": [
    "class Sized a where\n",
    "    size :: a -> Integer"
   ]
  },
  {
   "cell_type": "code",
   "execution_count": null,
   "id": "e9695710",
   "metadata": {},
   "outputs": [],
   "source": [
    "bytes x = (size x + 1) `div` 8 "
   ]
  },
  {
   "cell_type": "code",
   "execution_count": null,
   "id": "baa2051c",
   "metadata": {},
   "outputs": [],
   "source": [
    "instance Sized Bool where\n",
    "    size _ = 1\n",
    "\n",
    "instance Sized Char where\n",
    "    size _ = 8"
   ]
  },
  {
   "cell_type": "markdown",
   "id": "0da5aac7",
   "metadata": {},
   "source": [
    "### V signaturi lahko naštejemo **več vrednosti**"
   ]
  },
  {
   "cell_type": "code",
   "execution_count": null,
   "id": "a598cfeb",
   "metadata": {},
   "outputs": [],
   "source": [
    "class  Eq a  where\n",
    "    (==) :: a -> a -> Bool\n",
    "    (/=) :: a -> a -> Bool"
   ]
  },
  {
   "cell_type": "code",
   "execution_count": null,
   "id": "d7f89969",
   "metadata": {},
   "outputs": [],
   "source": [
    "instance  Eq Bool  where\n",
    "    True == True = True\n",
    "    False == False = True\n",
    "    _ == _ = False\n",
    "\n",
    "    x /= y = not (x == y)"
   ]
  },
  {
   "cell_type": "markdown",
   "id": "6a622db8",
   "metadata": {},
   "source": [
    "### V razredu lahko tudi **definiramo** vrednosti"
   ]
  },
  {
   "cell_type": "code",
   "execution_count": null,
   "id": "049be56c",
   "metadata": {},
   "outputs": [],
   "source": [
    "class  Eq a  where\n",
    "    (==) :: a -> a -> Bool\n",
    "    (/=) :: a -> a -> Bool\n",
    "\n",
    "    x /= y  = not (x == y)\n",
    "    x == y  = not (x /= y)"
   ]
  },
  {
   "cell_type": "code",
   "execution_count": null,
   "id": "d1f5a2b6",
   "metadata": {},
   "outputs": [],
   "source": [
    "instance  Eq Bool  where\n",
    "    True == True = True\n",
    "    False == False = True\n",
    "    _ == _ = False"
   ]
  },
  {
   "cell_type": "markdown",
   "id": "220b4640",
   "metadata": {},
   "source": [
    "### Razredi lahko za svoje člane zahtevajo **dodatne razrede**"
   ]
  },
  {
   "cell_type": "code",
   "execution_count": null,
   "id": "5e7ea44a",
   "metadata": {},
   "outputs": [],
   "source": [
    "class  Eq a => Ord a  where\n",
    "    compare   :: a -> a -> Ordering\n",
    "    (<), (<=) :: a -> a -> Bool\n",
    "    (>=), (>) :: a -> a -> Bool\n",
    "    max, min  :: a -> a -> a\n",
    "\n",
    "    compare x y | x == y    = EQ\n",
    "                | x <= y    = LT\n",
    "                | otherwise = GT\n",
    "\n",
    "    x <= y  = compare x y /= GT\n",
    "    x <  y  = compare x y == LT\n",
    "    ..."
   ]
  },
  {
   "cell_type": "markdown",
   "id": "ed71ff16",
   "metadata": {},
   "source": [
    "### Pogoje lahko postavimo tudi pri **pripadnikih**"
   ]
  },
  {
   "cell_type": "code",
   "execution_count": null,
   "metadata": {},
   "outputs": [],
   "source": [
    "instance Sized a => Sized [a] where\n",
    "    size [] = 0\n",
    "    size (x : xs) = size x + size xs\n",
    "\n",
    "instance (Sized a, Sized b) => Sized (a,b) where\n",
    "    size (x, y) = size x + size y"
   ]
  },
  {
   "cell_type": "code",
   "execution_count": null,
   "id": "45bf9df6",
   "metadata": {},
   "outputs": [],
   "source": [
    "instance  Ord a => Ord [a]  where\n",
    "  []     <= _      = True\n",
    "  (_:_)  <= []     = False\n",
    "  (x:xs) <= (y:ys) = x <= y && xs <= ys"
   ]
  },
  {
   "cell_type": "markdown",
   "id": "8098abb5",
   "metadata": {},
   "source": [
    "### Tipi razreda `Num` podpirajo aritmetiko."
   ]
  },
  {
   "cell_type": "code",
   "execution_count": null,
   "id": "29ddde72",
   "metadata": {},
   "outputs": [],
   "source": [
    "class  Num a  where\n",
    "    (+), (-), (*) :: a -> a -> a\n",
    "    negate        :: a -> a\n",
    "    abs           :: a -> a\n",
    "    signum        :: a -> a\n",
    "    fromInteger   :: Integer -> a\n",
    "\n",
    "    x - y         = x + negate y\n",
    "    negate x      = 0 - x"
   ]
  },
  {
   "cell_type": "markdown",
   "id": "ac914dbb",
   "metadata": {},
   "source": [
    "### Taylorjeve vrste"
   ]
  },
  {
   "cell_type": "markdown",
   "id": "5b187f6c",
   "metadata": {},
   "source": [
    "### Razrede lahko priredimo tudi **konstruktorjem tipov**"
   ]
  },
  {
   "cell_type": "code",
   "execution_count": null,
   "id": "a93e9a42",
   "metadata": {},
   "outputs": [],
   "source": [
    ":t and"
   ]
  },
  {
   "cell_type": "code",
   "execution_count": null,
   "id": "73a9a0e6",
   "metadata": {},
   "outputs": [],
   "source": [
    ":t sum"
   ]
  },
  {
   "cell_type": "code",
   "execution_count": null,
   "id": "510dd4d8",
   "metadata": {},
   "outputs": [],
   "source": [
    ":t elem"
   ]
  },
  {
   "cell_type": "markdown",
   "id": "aafd8b1a",
   "metadata": {},
   "source": [
    "### Konstruktor `Drevo`"
   ]
  },
  {
   "cell_type": "code",
   "execution_count": null,
   "id": "2a889515",
   "metadata": {},
   "outputs": [],
   "source": [
    "data Drevo a\n",
    "  = Prazno\n",
    "  | Sestavljeno a (Drevo a) (Drevo a)\n",
    "  deriving Show"
   ]
  },
  {
   "cell_type": "code",
   "execution_count": null,
   "id": "c83f4d3e",
   "metadata": {},
   "outputs": [],
   "source": [
    "mojeDrevo =\n",
    "  Sestavljeno 1\n",
    "    (Sestavljeno 2\n",
    "      (Sestavljeno 3 Prazno Prazno)\n",
    "      Prazno\n",
    "    )\n",
    "    (Sestavljeno 4 Prazno Prazno)"
   ]
  },
  {
   "cell_type": "markdown",
   "id": "af189e9b",
   "metadata": {},
   "source": [
    "### Razredu `Functor` pripadajo **zbirke podatkov**"
   ]
  },
  {
   "cell_type": "code",
   "execution_count": null,
   "id": "17c78169",
   "metadata": {},
   "outputs": [],
   "source": [
    "class Functor f where\n",
    "    fmap :: (a -> b) -> f a -> f b"
   ]
  },
  {
   "cell_type": "code",
   "execution_count": null,
   "id": "a7f77645",
   "metadata": {},
   "outputs": [],
   "source": [
    "instance  Functor Drevo  where\n",
    "    fmap _ Prazno = Prazno\n",
    "    fmap f (Sestavljeno x l d) =\n",
    "      Sestavljeno (f x) (fmap f l) (fmap f d)"
   ]
  },
  {
   "cell_type": "code",
   "execution_count": null,
   "id": "fcd27bf4",
   "metadata": {},
   "outputs": [],
   "source": [
    "fmap odd mojeDrevo"
   ]
  },
  {
   "cell_type": "code",
   "execution_count": null,
   "id": "b052b361",
   "metadata": {},
   "outputs": [],
   "source": [
    "fmap odd [1, 2, 5]"
   ]
  },
  {
   "cell_type": "markdown",
   "id": "8742290c",
   "metadata": {},
   "source": [
    "### Razredu `Foldable` pripadajo zbirke podatkov **z vrstnim redom**"
   ]
  },
  {
   "cell_type": "code",
   "execution_count": null,
   "id": "b81e6d20",
   "metadata": {},
   "outputs": [],
   "source": [
    "class Foldable t where\n",
    "    foldr :: (a -> b -> b) -> b -> t a -> b"
   ]
  },
  {
   "cell_type": "code",
   "execution_count": null,
   "id": "4ea90b3c",
   "metadata": {},
   "outputs": [],
   "source": [
    "instance  Foldable Drevo  where\n",
    "    foldr f z Prazno = z\n",
    "    foldr f z (Sestavljeno x l d) =\n",
    "      foldr f (f x (foldr f z d)) l"
   ]
  },
  {
   "cell_type": "code",
   "execution_count": null,
   "id": "4f2eedd5",
   "metadata": {},
   "outputs": [],
   "source": [
    "sum mojeDrevo"
   ]
  },
  {
   "cell_type": "code",
   "execution_count": null,
   "id": "3158853e",
   "metadata": {},
   "outputs": [],
   "source": [
    "3 `elem` mojeDrevo"
   ]
  },
  {
   "cell_type": "code",
   "execution_count": null,
   "id": "b39e59b4",
   "metadata": {},
   "outputs": [],
   "source": [
    "any even mojeDrevo"
   ]
  }
 ],
 "metadata": {
  "jupytext": {
   "cell_metadata_filter": "-all",
   "main_language": "haskell",
   "notebook_metadata_filter": "-all"
  },
  "language_info": {
   "name": "python"
  }
 },
 "nbformat": 4,
 "nbformat_minor": 5
}
