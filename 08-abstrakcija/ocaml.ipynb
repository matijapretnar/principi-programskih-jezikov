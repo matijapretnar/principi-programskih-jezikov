{
 "cells": [
  {
   "cell_type": "markdown",
   "metadata": {},
   "source": [
    "# OCaml\n",
    "\n",
    "Principi programskih jezikov, 2024-04-17\n",
    "\n",
    "---"
   ]
  },
  {
   "cell_type": "markdown",
   "metadata": {},
   "source": [
    "## Signatura in implementacija grup"
   ]
  },
  {
   "cell_type": "code",
   "execution_count": 1,
   "metadata": {
    "vscode": {
     "languageId": "ocaml"
    }
   },
   "outputs": [
    {
     "data": {
      "text/plain": [
       "- : int = 2\n"
      ]
     },
     "execution_count": 1,
     "metadata": {},
     "output_type": "execute_result"
    }
   ],
   "source": [
    "1 + 1"
   ]
  },
  {
   "cell_type": "code",
   "execution_count": 2,
   "metadata": {
    "vscode": {
     "languageId": "ocaml"
    }
   },
   "outputs": [
    {
     "data": {
      "text/plain": [
       "module Z3 :\n",
       "  sig\n",
       "    type g = Zero | One | Two\n",
       "    val e : g\n",
       "    val plus : g * g -> g\n",
       "    val mul : g * g -> g\n",
       "    val inv : g -> g\n",
       "  end\n"
      ]
     },
     "execution_count": 2,
     "metadata": {},
     "output_type": "execute_result"
    }
   ],
   "source": [
    "module Z3 =\n",
    "struct\n",
    "\n",
    "  type g = Zero | One | Two\n",
    "\n",
    "  let e = Zero\n",
    "\n",
    "  let plus = function\n",
    "    | (Zero, x) | (x, Zero) -> x\n",
    "    | (One, One) -> Two\n",
    "    | (One, Two) | (Two, One) -> Zero\n",
    "    | (Two, Two) -> One\n",
    "\n",
    "  let mul = plus\n",
    "\n",
    "  let inv = function\n",
    "    | Zero -> Zero\n",
    "    | One -> Two\n",
    "    | Two -> One\n",
    "end"
   ]
  },
  {
   "cell_type": "code",
   "execution_count": 5,
   "metadata": {
    "vscode": {
     "languageId": "ocaml"
    }
   },
   "outputs": [
    {
     "data": {
      "text/plain": [
       "- : Z3.g = Z3.Two\n"
      ]
     },
     "execution_count": 5,
     "metadata": {},
     "output_type": "execute_result"
    }
   ],
   "source": [
    "Z3.mul (Z3.e, (Z3.inv Z3.One))"
   ]
  },
  {
   "cell_type": "code",
   "execution_count": 6,
   "metadata": {
    "vscode": {
     "languageId": "ocaml"
    }
   },
   "outputs": [
    {
     "data": {
      "text/plain": [
       "module type GROUP =\n",
       "  sig type g val mul : g * g -> g val inv : g -> g val e : g end\n"
      ]
     },
     "execution_count": 6,
     "metadata": {},
     "output_type": "execute_result"
    }
   ],
   "source": [
    "module type GROUP =\n",
    "sig\n",
    "    type g\n",
    "    val mul : g * g -> g\n",
    "    val inv : g -> g\n",
    "    val e : g\n",
    "end"
   ]
  },
  {
   "cell_type": "code",
   "execution_count": 9,
   "metadata": {
    "vscode": {
     "languageId": "ocaml"
    }
   },
   "outputs": [
    {
     "data": {
      "text/plain": [
       "module Z3 : GROUP\n"
      ]
     },
     "execution_count": 9,
     "metadata": {},
     "output_type": "execute_result"
    }
   ],
   "source": [
    "module Z3 : GROUP =\n",
    "struct\n",
    "\n",
    "  type g = Zero | One | Two\n",
    "\n",
    "  let e = Zero\n",
    "\n",
    "  let plus = function\n",
    "    | (Zero, y) -> y\n",
    "    | (x, Zero) -> x\n",
    "    | (One, One) -> Two\n",
    "    | (One, Two) -> Zero\n",
    "    | (Two, One) -> Zero\n",
    "    | (Two, Two) -> One\n",
    "\n",
    "  let mul = plus\n",
    "\n",
    "  let inv = function\n",
    "    | Zero -> Zero\n",
    "    | One -> Two\n",
    "    | Two -> One\n",
    "end"
   ]
  },
  {
   "cell_type": "code",
   "execution_count": 15,
   "metadata": {
    "vscode": {
     "languageId": "ocaml"
    }
   },
   "outputs": [
    {
     "data": {
      "text/plain": [
       "- : Z3.g = <abstr>\n"
      ]
     },
     "execution_count": 15,
     "metadata": {},
     "output_type": "execute_result"
    }
   ],
   "source": [
    "Z3.mul (Z3.e, (Z3.inv Z3.e))"
   ]
  },
  {
   "cell_type": "code",
   "execution_count": null,
   "metadata": {
    "vscode": {
     "languageId": "ocaml"
    }
   },
   "outputs": [],
   "source": [
    "module Z3' : GROUP =\n",
    "struct\n",
    "    type g = int\n",
    "\n",
    "    let mul (x, y) = (x + y) mod 3\n",
    "    let inv x = (3 - x) mod 3\n",
    "    let e = 0\n",
    "end"
   ]
  },
  {
   "cell_type": "markdown",
   "metadata": {},
   "source": [
    "## Prednostne vrste"
   ]
  },
  {
   "cell_type": "code",
   "execution_count": 33,
   "metadata": {
    "vscode": {
     "languageId": "ocaml"
    }
   },
   "outputs": [
    {
     "data": {
      "text/plain": [
       "module type PRIORITY_QUEUE =\n",
       "  sig\n",
       "    type element\n",
       "    val priority : element -> int\n",
       "    type queue\n",
       "    val empty : queue\n",
       "    val put : element -> queue -> queue\n",
       "    val get : queue -> element option * queue\n",
       "  end\n"
      ]
     },
     "execution_count": 33,
     "metadata": {},
     "output_type": "execute_result"
    }
   ],
   "source": [
    "module type PRIORITY_QUEUE =\n",
    "  sig\n",
    "    type element\n",
    "    val priority : element -> int\n",
    "\n",
    "    type queue\n",
    "    val empty : queue\n",
    "    val put : element -> queue -> queue\n",
    "    val get : queue -> element option * queue\n",
    "  end"
   ]
  },
  {
   "cell_type": "markdown",
   "metadata": {
    "vscode": {
     "languageId": "ocaml"
    }
   },
   "source": [
    "### Naivna implementacija prioritetne vrste"
   ]
  },
  {
   "cell_type": "code",
   "execution_count": 34,
   "metadata": {
    "vscode": {
     "languageId": "ocaml"
    }
   },
   "outputs": [
    {
     "data": {
      "text/plain": [
       "module MyFirstQueue :\n",
       "  sig\n",
       "    type element = int * int\n",
       "    val priority : element -> int\n",
       "    type queue\n",
       "    val empty : queue\n",
       "    val put : element -> queue -> queue\n",
       "    val get : queue -> element option * queue\n",
       "  end\n"
      ]
     },
     "execution_count": 34,
     "metadata": {},
     "output_type": "execute_result"
    }
   ],
   "source": [
    "module MyFirstQueue : PRIORITY_QUEUE with type element = int * int =\n",
    "  struct\n",
    "    type element = int * int\n",
    "\n",
    "    let priority (a, b) = a\n",
    "\n",
    "    type queue = element list\n",
    "\n",
    "    let empty = []\n",
    "\n",
    "    let rec put x = function\n",
    "      | [] -> [x]\n",
    "      | y :: ys ->\n",
    "         if priority x <= priority y then\n",
    "           x :: y :: ys\n",
    "         else\n",
    "           y :: put x ys\n",
    "\n",
    "    let get = function\n",
    "      | [] -> (None, [])\n",
    "      | x :: xs -> (Some x, xs)\n",
    "  end"
   ]
  },
  {
   "cell_type": "code",
   "execution_count": 35,
   "metadata": {
    "vscode": {
     "languageId": "ocaml"
    }
   },
   "outputs": [
    {
     "data": {
      "text/plain": [
       "- : MyFirstQueue.element option * MyFirstQueue.queue =\n",
       "(Some (1, 456), <abstr>)\n"
      ]
     },
     "execution_count": 35,
     "metadata": {},
     "output_type": "execute_result"
    }
   ],
   "source": [
    "MyFirstQueue.empty\n",
    "|> MyFirstQueue.put (100, 123)\n",
    "|> MyFirstQueue.put (1, 456)\n",
    "|> MyFirstQueue.put (20, 789)\n",
    "|> MyFirstQueue.get"
   ]
  },
  {
   "cell_type": "code",
   "execution_count": 24,
   "metadata": {
    "vscode": {
     "languageId": "ocaml"
    }
   },
   "outputs": [
    {
     "data": {
      "text/plain": [
       "- : MyFirstQueue.element option * MyFirstQueue.queue =\n",
       "(Some (1, 456), <abstr>)\n"
      ]
     },
     "execution_count": 24,
     "metadata": {},
     "output_type": "execute_result"
    }
   ],
   "source": [
    "MyFirstQueue.empty\n",
    "|> MyFirstQueue.put (100, 123)\n",
    "|> MyFirstQueue.put (1, 456)\n",
    "|> MyFirstQueue.put (20, 789)\n",
    "|> MyFirstQueue.get"
   ]
  },
  {
   "cell_type": "code",
   "execution_count": 36,
   "metadata": {
    "vscode": {
     "languageId": "ocaml"
    }
   },
   "outputs": [
    {
     "data": {
      "text/plain": [
       "module MyFirstStringQueue :\n",
       "  sig\n",
       "    type element = string\n",
       "    val priority : element -> int\n",
       "    type queue\n",
       "    val empty : queue\n",
       "    val put : element -> queue -> queue\n",
       "    val get : queue -> element option * queue\n",
       "  end\n"
      ]
     },
     "execution_count": 36,
     "metadata": {},
     "output_type": "execute_result"
    }
   ],
   "source": [
    "module MyFirstStringQueue : PRIORITY_QUEUE with type element = string =\n",
    "  struct\n",
    "    type element = string\n",
    "\n",
    "    let priority = String.length\n",
    "\n",
    "    type queue = element list\n",
    "\n",
    "    let empty = []\n",
    "\n",
    "    let rec put x = function\n",
    "      | [] -> [x]\n",
    "      | y :: ys ->\n",
    "         if priority x <= priority y then\n",
    "           x :: y :: ys\n",
    "         else\n",
    "           y :: put x ys\n",
    "\n",
    "    let get = function\n",
    "      | [] -> (None, [])\n",
    "      | x :: xs -> (Some x, xs)\n",
    "  end"
   ]
  },
  {
   "cell_type": "code",
   "execution_count": 37,
   "metadata": {
    "vscode": {
     "languageId": "ocaml"
    }
   },
   "outputs": [
    {
     "data": {
      "text/plain": [
       "- : MyFirstStringQueue.element option * MyFirstStringQueue.queue =\n",
       "(Some \"kivi\", <abstr>)\n"
      ]
     },
     "execution_count": 37,
     "metadata": {},
     "output_type": "execute_result"
    }
   ],
   "source": [
    "MyFirstStringQueue.empty\n",
    "|> MyFirstStringQueue.put \"banana\"\n",
    "|> MyFirstStringQueue.put \"jabolko\"\n",
    "|> MyFirstStringQueue.put \"kivi\"\n",
    "|> MyFirstStringQueue.get"
   ]
  },
  {
   "cell_type": "markdown",
   "metadata": {},
   "source": [
    "## Funktorji"
   ]
  },
  {
   "cell_type": "code",
   "execution_count": 39,
   "metadata": {
    "vscode": {
     "languageId": "ocaml"
    }
   },
   "outputs": [
    {
     "data": {
      "text/plain": [
       "module type PRIORITY_TYPE = sig type t val priority : t -> int end\n"
      ]
     },
     "execution_count": 39,
     "metadata": {},
     "output_type": "execute_result"
    }
   ],
   "source": [
    "module type PRIORITY_TYPE =\n",
    "sig\n",
    "  type t\n",
    "  val priority : t -> int\n",
    "end"
   ]
  },
  {
   "cell_type": "code",
   "execution_count": 47,
   "metadata": {
    "vscode": {
     "languageId": "ocaml"
    }
   },
   "outputs": [
    {
     "data": {
      "text/plain": [
       "module StringPriority : sig type t = string val priority : t -> int end\n"
      ]
     },
     "execution_count": 47,
     "metadata": {},
     "output_type": "execute_result"
    }
   ],
   "source": [
    "module StringPriority : PRIORITY_TYPE with type t = string =\n",
    "struct\n",
    "  type t = string\n",
    "  let priority s = String.length s\n",
    "end"
   ]
  },
  {
   "cell_type": "code",
   "execution_count": 51,
   "metadata": {
    "vscode": {
     "languageId": "ocaml"
    }
   },
   "outputs": [
    {
     "data": {
      "text/plain": [
       "module ListQueue :\n",
       "  functor (P : PRIORITY_TYPE) ->\n",
       "    sig\n",
       "      type element = P.t\n",
       "      val priority : element -> int\n",
       "      type queue\n",
       "      val empty : queue\n",
       "      val put : element -> queue -> queue\n",
       "      val get : queue -> element option * queue\n",
       "    end\n"
      ]
     },
     "execution_count": 51,
     "metadata": {},
     "output_type": "execute_result"
    }
   ],
   "source": [
    "module ListQueue (P : PRIORITY_TYPE) : PRIORITY_QUEUE with type element = P.t =\n",
    "  struct\n",
    "    type element = P.t\n",
    "\n",
    "    let priority = P.priority\n",
    "\n",
    "    type queue = element list\n",
    "\n",
    "    let empty = []\n",
    "\n",
    "    let rec put x = function\n",
    "      | [] -> [x]\n",
    "      | y :: ys ->\n",
    "         if priority x <= priority y then\n",
    "           x :: y :: ys\n",
    "         else\n",
    "           y :: put x ys\n",
    "\n",
    "    let get = function\n",
    "      | [] -> (None, [])\n",
    "      | x :: xs -> (Some x, xs)\n",
    "  end"
   ]
  },
  {
   "cell_type": "code",
   "execution_count": 52,
   "metadata": {
    "vscode": {
     "languageId": "ocaml"
    }
   },
   "outputs": [
    {
     "data": {
      "text/plain": [
       "module StringListQueue :\n",
       "  sig\n",
       "    type element = StringPriority.t\n",
       "    val priority : element -> int\n",
       "    type queue = ListQueue(StringPriority).queue\n",
       "    val empty : queue\n",
       "    val put : element -> queue -> queue\n",
       "    val get : queue -> element option * queue\n",
       "  end\n"
      ]
     },
     "execution_count": 52,
     "metadata": {},
     "output_type": "execute_result"
    }
   ],
   "source": [
    "module StringListQueue = ListQueue(StringPriority)"
   ]
  },
  {
   "cell_type": "code",
   "execution_count": 53,
   "metadata": {
    "vscode": {
     "languageId": "ocaml"
    }
   },
   "outputs": [
    {
     "data": {
      "text/plain": [
       "- : StringListQueue.element option * StringListQueue.queue =\n",
       "(Some \"kivi\", <abstr>)\n"
      ]
     },
     "execution_count": 53,
     "metadata": {},
     "output_type": "execute_result"
    }
   ],
   "source": [
    "StringListQueue.empty\n",
    "|> StringListQueue.put \"banana\"\n",
    "|> StringListQueue.put \"jabolko\"\n",
    "|> StringListQueue.put \"kivi\"\n",
    "|> StringListQueue.get"
   ]
  },
  {
   "cell_type": "code",
   "execution_count": 54,
   "metadata": {
    "vscode": {
     "languageId": "ocaml"
    }
   },
   "outputs": [
    {
     "data": {
      "text/plain": [
       "module StringListQueue' :\n",
       "  sig\n",
       "    type element = string\n",
       "    val priority : element -> int\n",
       "    type queue\n",
       "    val empty : queue\n",
       "    val put : element -> queue -> queue\n",
       "    val get : queue -> element option * queue\n",
       "  end\n"
      ]
     },
     "execution_count": 54,
     "metadata": {},
     "output_type": "execute_result"
    }
   ],
   "source": [
    "module StringListQueue' =\n",
    "  ListQueue(\n",
    "      struct\n",
    "        type t = string\n",
    "        let priority = String.length\n",
    "      end)"
   ]
  },
  {
   "cell_type": "code",
   "execution_count": 55,
   "metadata": {
    "vscode": {
     "languageId": "ocaml"
    }
   },
   "outputs": [
    {
     "data": {
      "text/plain": [
       "- : StringListQueue'.element option * StringListQueue'.queue =\n",
       "(Some \"kivi\", <abstr>)\n"
      ]
     },
     "execution_count": 55,
     "metadata": {},
     "output_type": "execute_result"
    }
   ],
   "source": [
    "StringListQueue'.empty\n",
    "|> StringListQueue'.put \"banana\"\n",
    "|> StringListQueue'.put \"jabolko\"\n",
    "|> StringListQueue'.put \"kivi\"\n",
    "|> StringListQueue'.get"
   ]
  },
  {
   "cell_type": "markdown",
   "metadata": {},
   "source": [
    "## Učinkovitejša implementacija"
   ]
  },
  {
   "cell_type": "markdown",
   "metadata": {},
   "source": [
    "Učinkovita implementacija z [levičarskimi kopicami](<https://en.wikipedia.org/wiki/Leftist_tree>). Implementacija je abstraktna, ker uporabimo `:`, vendar dodamo določilo, da je tip `element` enak tipu `t` iz modula `M`."
   ]
  },
  {
   "cell_type": "code",
   "execution_count": 56,
   "metadata": {
    "vscode": {
     "languageId": "ocaml"
    }
   },
   "outputs": [
    {
     "data": {
      "text/plain": [
       "module LeftistHeapQueue :\n",
       "  functor (P : PRIORITY_TYPE) ->\n",
       "    sig\n",
       "      type element = P.t\n",
       "      val priority : element -> int\n",
       "      type queue\n",
       "      val empty : queue\n",
       "      val put : element -> queue -> queue\n",
       "      val get : queue -> element option * queue\n",
       "    end\n"
      ]
     },
     "execution_count": 56,
     "metadata": {},
     "output_type": "execute_result"
    }
   ],
   "source": [
    "module LeftistHeapQueue (P : PRIORITY_TYPE) : PRIORITY_QUEUE with type element = P.t =\n",
    "  struct\n",
    "    type element = P.t\n",
    "\n",
    "    let priority = P.priority\n",
    "\n",
    "    type queue = Leaf | Node of int * element * queue * queue\n",
    "\n",
    "    let rank = function\n",
    "    | Leaf -> 0\n",
    "    | Node (r, _, _, _) -> r\n",
    "\n",
    "    let node (x, a, b) =\n",
    "    if rank a < rank b then\n",
    "      Node (1 + rank a, x, b, a)\n",
    "    else\n",
    "      Node (1 + rank b, x, a, b)\n",
    "\n",
    "    let rec meld a b =\n",
    "    match (a, b) with\n",
    "    | (_, Leaf) -> a\n",
    "    | (Leaf, _) -> b\n",
    "    | (Node (_, ka, la, ra), Node (_, kb, lb, rb)) ->\n",
    "      if priority ka < priority kb then\n",
    "        node (ka, la, meld ra b)\n",
    "      else\n",
    "        node (kb, lb, meld a rb)\n",
    "\n",
    "    let singleton x = Node (1, x, Leaf, Leaf)\n",
    "\n",
    "    let empty = Leaf\n",
    "\n",
    "    let put x q = meld q (singleton x)\n",
    "\n",
    "    let get = function\n",
    "    | Leaf -> (None, Leaf)\n",
    "    | Node (_, y, l, r) -> (Some y, meld l r)\n",
    "  end"
   ]
  },
  {
   "cell_type": "code",
   "execution_count": 57,
   "metadata": {
    "vscode": {
     "languageId": "ocaml"
    }
   },
   "outputs": [
    {
     "data": {
      "text/plain": [
       "module Fast :\n",
       "  sig\n",
       "    type element = int * int\n",
       "    val priority : element -> int\n",
       "    type queue\n",
       "    val empty : queue\n",
       "    val put : element -> queue -> queue\n",
       "    val get : queue -> element option * queue\n",
       "  end\n"
      ]
     },
     "execution_count": 57,
     "metadata": {},
     "output_type": "execute_result"
    }
   ],
   "source": [
    "module Fast = LeftistHeapQueue(\n",
    "               struct\n",
    "                 type t = int * int\n",
    "                 let priority (x, y) = x + y\n",
    "               end)\n"
   ]
  },
  {
   "cell_type": "code",
   "execution_count": 58,
   "metadata": {
    "vscode": {
     "languageId": "ocaml"
    }
   },
   "outputs": [
    {
     "data": {
      "text/plain": [
       "module Slow :\n",
       "  sig\n",
       "    type element = int * int\n",
       "    val priority : element -> int\n",
       "    type queue\n",
       "    val empty : queue\n",
       "    val put : element -> queue -> queue\n",
       "    val get : queue -> element option * queue\n",
       "  end\n"
      ]
     },
     "execution_count": 58,
     "metadata": {},
     "output_type": "execute_result"
    }
   ],
   "source": [
    "module Slow = ListQueue(\n",
    "               struct\n",
    "                 type t = int * int\n",
    "                 let priority (x, y) = x + y\n",
    "               end)"
   ]
  },
  {
   "cell_type": "code",
   "execution_count": 59,
   "metadata": {
    "vscode": {
     "languageId": "ocaml"
    }
   },
   "outputs": [
    {
     "data": {
      "text/plain": [
       "- : Slow.queue = <abstr>\n"
      ]
     },
     "execution_count": 59,
     "metadata": {},
     "output_type": "execute_result"
    }
   ],
   "source": [
    "let rec loop q = function\n",
    "  | 0 -> Slow.put (0, 0) q\n",
    "  | k -> loop (Slow.put ((47 * k * k + 13) mod 1000, k) q) (k - 1)\n",
    "in\n",
    "loop Slow.empty 300000"
   ]
  },
  {
   "cell_type": "code",
   "execution_count": 60,
   "metadata": {
    "vscode": {
     "languageId": "ocaml"
    }
   },
   "outputs": [
    {
     "data": {
      "text/plain": [
       "- : Fast.queue = <abstr>\n"
      ]
     },
     "execution_count": 60,
     "metadata": {},
     "output_type": "execute_result"
    }
   ],
   "source": [
    "let rec loop q = function\n",
    "  | 0 -> Fast.put (0, 0) q\n",
    "  | k -> loop (Fast.put ((47 * k * k + 13) mod 1000, k) q) (k - 1)\n",
    "in\n",
    "loop Fast.empty 300000"
   ]
  },
  {
   "cell_type": "code",
   "execution_count": null,
   "metadata": {
    "vscode": {
     "languageId": "ocaml"
    }
   },
   "outputs": [],
   "source": []
  }
 ],
 "metadata": {
  "kernelspec": {
   "display_name": "OCaml default",
   "language": "OCaml",
   "name": "ocaml-jupyter"
  },
  "language_info": {
   "codemirror_mode": "text/x-ocaml",
   "file_extension": ".ml",
   "mimetype": "text/x-ocaml",
   "name": "OCaml",
   "nbconverter_exporter": null,
   "pygments_lexer": "OCaml",
   "version": "4.14.1"
  }
 },
 "nbformat": 4,
 "nbformat_minor": 2
}
